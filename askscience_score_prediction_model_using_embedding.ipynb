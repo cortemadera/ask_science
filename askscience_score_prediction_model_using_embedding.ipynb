{
 "cells": [
  {
   "cell_type": "code",
   "execution_count": 36,
   "id": "e45440aa",
   "metadata": {},
   "outputs": [],
   "source": [
    "import numpy as np\n",
    "import pandas as pd\n",
    "import torch\n",
    "from sklearn.base import BaseEstimator, TransformerMixin\n",
    "from sklearn.compose import ColumnTransformer\n",
    "from sklearn.feature_extraction.text import TfidfVectorizer\n",
    "from sklearn.linear_model import LinearRegression\n",
    "from sklearn.metrics import mean_squared_log_error, r2_score\n",
    "from sklearn.model_selection import train_test_split\n",
    "from sklearn.pipeline import make_pipeline\n",
    "from sklearn.preprocessing import StandardScaler\n",
    "from tqdm import tqdm\n",
    "from transformers import BertModel, BertTokenizer"
   ]
  },
  {
   "cell_type": "code",
   "execution_count": 37,
   "id": "f403ff09",
   "metadata": {},
   "outputs": [],
   "source": [
    "# Custom transformer for converting text into embeddings using a BERT model.\n",
    "class BertEmbeddingTransformer(BaseEstimator, TransformerMixin):\n",
    "    def __init__(self, model_name='bert-base-uncased'): # model with good balance between performance and resource demands\n",
    "        self.model_name = model_name\n",
    "        self.device = torch.device(\"cuda\" if torch.cuda.is_available() else \"cpu\")\n",
    "        self.tokenizer = BertTokenizer.from_pretrained(model_name)\n",
    "        self.model = BertModel.from_pretrained(model_name)\n",
    "        self.model.to(self.device)\n",
    "\n",
    "    def transform(self, X, **transform_params):\n",
    "        self.model.eval()\n",
    "        embeddings = []\n",
    "        for doc in tqdm(X, desc=\"Processing documents\"):\n",
    "            with torch.no_grad():\n",
    "                encoded_input = self.tokenizer(doc, padding=True, truncation=True, max_length=512, return_tensors='pt').to(self.device)\n",
    "                output = self.model(**encoded_input)\n",
    "                embeddings.append(output.pooler_output.cpu().numpy())\n",
    "        return np.vstack(embeddings)\n",
    "    \n",
    "    def fit(self, X, y=None):\n",
    "        return self\n"
   ]
  },
  {
   "cell_type": "code",
   "execution_count": 38,
   "id": "b799f08f",
   "metadata": {},
   "outputs": [
    {
     "name": "stderr",
     "output_type": "stream",
     "text": [
      "Processing documents: 100%|█████████████████| 3364/3364 [02:15<00:00, 24.91it/s]\n",
      "Processing documents: 100%|█████████████████| 3364/3364 [05:29<00:00, 10.21it/s]\n",
      "Processing documents: 100%|███████████████████| 841/841 [00:33<00:00, 24.80it/s]\n",
      "Processing documents: 100%|███████████████████| 841/841 [00:47<00:00, 17.76it/s]"
     ]
    },
    {
     "name": "stdout",
     "output_type": "stream",
     "text": [
      "MSLE: 14.52, R-squared: 0.38\n"
     ]
    },
    {
     "name": "stderr",
     "output_type": "stream",
     "text": [
      "\n"
     ]
    }
   ],
   "source": [
    "# Load the data\n",
    "data_path = '../askscience_data.csv'\n",
    "data = pd.read_csv(data_path)\n",
    "\n",
    "# Filling in missing data\n",
    "data = data.fillna({'body':''})\n",
    "\n",
    "# Add relevant features\n",
    "data['title_length'] = data['title'].apply(len)\n",
    "\n",
    "# Selecting features and the target variable\n",
    "features = ['upvote_ratio', 'title', 'body', 'title_length']\n",
    "target = 'score'\n",
    "\n",
    "\n",
    "preprocessor = ColumnTransformer(\n",
    "    transformers=[\n",
    "        ('bert_title', BertEmbeddingTransformer(), 'title'),\n",
    "        ('bert_body', BertEmbeddingTransformer(), 'body'),\n",
    "        ('num', StandardScaler(), ['upvote_ratio', 'title_length'])\n",
    "    ],\n",
    "    remainder='drop'  # This drops the columns that we do not transform\n",
    ")\n",
    "\n",
    "# Create a pipeline that first preprocesses the data then applies a linear regression model\n",
    "model = make_pipeline(preprocessor, LinearRegression())\n",
    "\n",
    "# Splitting the data into training and testing sets\n",
    "X = data[features]\n",
    "y = data[target].values\n",
    "X_train, X_test, y_train, y_test = train_test_split(X, y, test_size=0.2, random_state=42)\n",
    "\n",
    "# Training the model\n",
    "model.fit(X_train, y_train)\n",
    "\n",
    "# Predicting and evaluating the model\n",
    "y_pred = model.predict(X_test)\n",
    "y_pred[y_pred < 0] = 0\n",
    "\n",
    "mse = mean_squared_log_error(y_test, y_pred)\n",
    "r2 = r2_score(y_test, y_pred)\n",
    "\n",
    "print(f'MSLE: {mse:.2f}, R-squared: {r2:.2f}')\n"
   ]
  },
  {
   "cell_type": "code",
   "execution_count": null,
   "id": "3a73e3ab",
   "metadata": {},
   "outputs": [],
   "source": []
  }
 ],
 "metadata": {
  "kernelspec": {
   "display_name": "Python 3 (ipykernel)",
   "language": "python",
   "name": "python3"
  },
  "language_info": {
   "codemirror_mode": {
    "name": "ipython",
    "version": 3
   },
   "file_extension": ".py",
   "mimetype": "text/x-python",
   "name": "python",
   "nbconvert_exporter": "python",
   "pygments_lexer": "ipython3",
   "version": "3.10.0"
  }
 },
 "nbformat": 4,
 "nbformat_minor": 5
}
