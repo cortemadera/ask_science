{
 "cells": [
  {
   "cell_type": "code",
   "execution_count": 53,
   "id": "b799f08f",
   "metadata": {},
   "outputs": [
    {
     "name": "stdout",
     "output_type": "stream",
     "text": [
      "MSLE: 48.13, R-squared: -25.08\n"
     ]
    }
   ],
   "source": [
    "import pandas as pd\n",
    "from sklearn.model_selection import train_test_split\n",
    "from sklearn.linear_model import LinearRegression\n",
    "from sklearn.metrics import mean_squared_log_error, r2_score\n",
    "from sklearn.feature_extraction.text import TfidfVectorizer\n",
    "from sklearn.pipeline import make_pipeline\n",
    "from sklearn.compose import ColumnTransformer\n",
    "from sklearn.preprocessing import StandardScaler\n",
    "\n",
    "# Load the data\n",
    "data_path = '../askscience_data.csv'\n",
    "data = pd.read_csv(data_path)\n",
    "\n",
    "# Filling in missing data\n",
    "data = data.fillna({'body':''})\n",
    "\n",
    "# Add relevant features\n",
    "data['title_length'] = data['title'].apply(len)\n",
    "\n",
    "# Selecting features and the target variable\n",
    "features = ['upvote_ratio', 'title', 'body', 'title_length']\n",
    "target = 'score'\n",
    "\n",
    "\n",
    "# Define a ColumnTransformer to apply different preprocessing to different columns\n",
    "# preprocessor = ColumnTransformer(\n",
    "#     transformers=[\n",
    "#         ('tfidf_title', TfidfVectorizer(stop_words='english'), 'title'),\n",
    "#         ('tfidf_body', TfidfVectorizer(stop_words='english'), 'body'),\n",
    "#         ('num', StandardScaler(), ['upvote_ratio', 'title_length'])\n",
    "#     ],\n",
    "#     remainder='drop'  # This drops the columns that we do not transform\n",
    "# )\n",
    "\n",
    "preprocessor = ColumnTransformer(\n",
    "    transformers=[\n",
    "        ('tfidf_title', TfidfVectorizer(), 'title'),\n",
    "        ('tfidf_body', TfidfVectorizer(), 'body'),\n",
    "#         ('num', StandardScaler(), ['upvote_ratio', 'title_length'])\n",
    "         ('num', StandardScaler(), ['upvote_ratio'])\n",
    "    ],\n",
    "    remainder='drop'  # This drops the columns that we do not transform\n",
    ")\n",
    "\n",
    "# Create a pipeline that first preprocesses the data then applies a linear regression model\n",
    "model = make_pipeline(preprocessor, LinearRegression())\n",
    "\n",
    "# Splitting the data into training and testing sets\n",
    "X = data[features]\n",
    "y = data[target].values\n",
    "X_train, X_test, y_train, y_test = train_test_split(X, y, test_size=0.2, random_state=42)\n",
    "\n",
    "# Training the model\n",
    "model.fit(X_train, y_train)\n",
    "\n",
    "# Predicting and evaluating the model\n",
    "y_pred = model.predict(X_test)\n",
    "y_pred[y_pred < 0] = 0\n",
    "\n",
    "mse = mean_squared_log_error(y_test, y_pred)\n",
    "r2 = r2_score(y_test, y_pred)\n",
    "\n",
    "print(f'MSLE: {mse:.2f}, R-squared: {r2:.2f}')\n",
    "\n"
   ]
  },
  {
   "cell_type": "code",
   "execution_count": null,
   "id": "5c9a6ddc",
   "metadata": {},
   "outputs": [],
   "source": []
  },
  {
   "cell_type": "code",
   "execution_count": null,
   "id": "3e557f17",
   "metadata": {},
   "outputs": [],
   "source": []
  }
 ],
 "metadata": {
  "kernelspec": {
   "display_name": "Python 3 (ipykernel)",
   "language": "python",
   "name": "python3"
  },
  "language_info": {
   "codemirror_mode": {
    "name": "ipython",
    "version": 3
   },
   "file_extension": ".py",
   "mimetype": "text/x-python",
   "name": "python",
   "nbconvert_exporter": "python",
   "pygments_lexer": "ipython3",
   "version": "3.10.0"
  }
 },
 "nbformat": 4,
 "nbformat_minor": 5
}
